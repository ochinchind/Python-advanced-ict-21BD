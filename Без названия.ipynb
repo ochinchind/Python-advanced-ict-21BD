{
 "cells": [
  {
   "cell_type": "code",
   "execution_count": 4,
   "id": "4f0fbfe0",
   "metadata": {},
   "outputs": [
    {
     "name": "stdout",
     "output_type": "stream",
     "text": [
      "0        Apple\n",
      "1        Tesla\n",
      "2    Microsoft\n",
      "dtype: object\n"
     ]
    },
    {
     "ename": "NameError",
     "evalue": "name 'df' is not defined",
     "output_type": "error",
     "traceback": [
      "\u001b[1;31m---------------------------------------------------------------------------\u001b[0m",
      "\u001b[1;31mNameError\u001b[0m                                 Traceback (most recent call last)",
      "Cell \u001b[1;32mIn [4], line 15\u001b[0m\n\u001b[0;32m     13\u001b[0m dictionary \u001b[38;5;241m=\u001b[39m {\u001b[38;5;124m\"\u001b[39m\u001b[38;5;124mday1\u001b[39m\u001b[38;5;124m\"\u001b[39m : \u001b[38;5;241m1000\u001b[39m, \u001b[38;5;124m\"\u001b[39m\u001b[38;5;124mday2\u001b[39m\u001b[38;5;124m\"\u001b[39m: \u001b[38;5;241m1100\u001b[39m, \u001b[38;5;124m\"\u001b[39m\u001b[38;5;124mday3\u001b[39m\u001b[38;5;124m\"\u001b[39m: \u001b[38;5;241m0\u001b[39m}\n\u001b[0;32m     14\u001b[0m my_serie \u001b[38;5;241m=\u001b[39m pd\u001b[38;5;241m.\u001b[39mSeries(dictionary)\n\u001b[1;32m---> 15\u001b[0m df[\u001b[38;5;124m\"\u001b[39m\u001b[38;5;124mMy numbers\u001b[39m\u001b[38;5;124m\"\u001b[39m] \u001b[38;5;241m=\u001b[39m my_serie\n\u001b[0;32m     16\u001b[0m \u001b[38;5;66;03m# print(df)\u001b[39;00m\n\u001b[0;32m     17\u001b[0m dictionary \u001b[38;5;241m=\u001b[39m {\u001b[38;5;124m\"\u001b[39m\u001b[38;5;124mday1\u001b[39m\u001b[38;5;124m\"\u001b[39m : \u001b[38;5;241m3265\u001b[39m, \u001b[38;5;124m\"\u001b[39m\u001b[38;5;124mday2\u001b[39m\u001b[38;5;124m\"\u001b[39m: \u001b[38;5;241m6354\u001b[39m, \u001b[38;5;124m\"\u001b[39m\u001b[38;5;124mday3\u001b[39m\u001b[38;5;124m\"\u001b[39m: \u001b[38;5;241m6463\u001b[39m}\n",
      "\u001b[1;31mNameError\u001b[0m: name 'df' is not defined"
     ]
    }
   ],
   "source": [
    "import pandas as pd\n",
    "#Get the value of a column\n",
    "values = ['Apple', 'Tesla', 'Microsoft']\n",
    "\n",
    "\n",
    "# In[49]:\n",
    "\n",
    "\n",
    "#Create a serie\n",
    "my_serie = pd.Series(values)\n",
    "print(my_serie)\n",
    "#Add Series to the dataframe (index are kept)\n",
    "dictionary = {\"day1\" : 1000, \"day2\": 1100, \"day3\": 0}\n",
    "my_serie = pd.Series(dictionary)\n",
    "df[\"My numbers\"] = my_serie\n",
    "# print(df)\n",
    "dictionary = {\"day1\" : 3265, \"day2\": 6354, \"day3\": 6463}\n",
    "my_serie = pd.Series(dictionary)\n",
    "df[\"My numbers 2\"] = my_serie\n",
    "print(df)"
   ]
  },
  {
   "cell_type": "code",
   "execution_count": 5,
   "id": "85e41ef4",
   "metadata": {},
   "outputs": [
    {
     "name": "stdout",
     "output_type": "stream",
     "text": [
      "day1    1000\n",
      "day2    1100\n",
      "day3       0\n",
      "dtype: int64\n"
     ]
    }
   ],
   "source": [
    "#Label is automatic from a dictionary\n",
    "dictionary = {\"day1\" : 1000, \"day2\": 1100, \"day3\": 0}\n",
    "my_serie = pd.Series(dictionary)\n",
    "print(my_serie)"
   ]
  },
  {
   "cell_type": "code",
   "execution_count": null,
   "id": "b37c1eb8",
   "metadata": {},
   "outputs": [],
   "source": []
  }
 ],
 "metadata": {
  "kernelspec": {
   "display_name": "Python 3 (ipykernel)",
   "language": "python",
   "name": "python3"
  },
  "language_info": {
   "codemirror_mode": {
    "name": "ipython",
    "version": 3
   },
   "file_extension": ".py",
   "mimetype": "text/x-python",
   "name": "python",
   "nbconvert_exporter": "python",
   "pygments_lexer": "ipython3",
   "version": "3.10.2"
  }
 },
 "nbformat": 4,
 "nbformat_minor": 5
}
